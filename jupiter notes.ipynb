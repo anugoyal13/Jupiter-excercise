{
 "cells": [
  {
   "cell_type": "code",
   "execution_count": null,
   "id": "5f384325",
   "metadata": {},
   "outputs": [],
   "source": [
    "def add():\n",
    "    print(\"hi\")\n",
    "    print(\"hello\")\n",
    "    \n",
    "\n",
    "add()\n"
   ]
  },
  {
   "cell_type": "code",
   "execution_count": null,
   "id": "05ab01c3",
   "metadata": {},
   "outputs": [],
   "source": [
    "def capital_letters(x):\n",
    "    x=name.upper()\n",
    "    return x\n",
    "    \n",
    "    \n",
    "#name=\"hello world\"\n",
    "capital_letters(name)"
   ]
  },
  {
   "cell_type": "code",
   "execution_count": null,
   "id": "0c56ed26",
   "metadata": {},
   "outputs": [],
   "source": [
    "def pop_func():\n",
    "    l=[3,4,5,6]\n",
    "    x=l.pop()\n",
    "    print(l)\n",
    "    print(x)\n",
    "    \n",
    "    \n",
    "pop_func()"
   ]
  },
  {
   "cell_type": "code",
   "execution_count": null,
   "id": "b4fe70ba",
   "metadata": {},
   "outputs": [],
   "source": [
    "def detail(age,name):\n",
    "    print(f\"my name is {name}\")\n",
    "    print(f\"my age is {age}\")\n",
    "    \n",
    "    \n",
    "detail(20,\"anu\")"
   ]
  },
  {
   "cell_type": "markdown",
   "id": "226173bd",
   "metadata": {},
   "source": []
  },
  {
   "cell_type": "code",
   "execution_count": null,
   "id": "5879f604",
   "metadata": {},
   "outputs": [],
   "source": [
    "def increased_salary(salary):\n",
    "    newsalary=salary*1.10\n",
    "    print(\"revised salary\",newsalary)\n",
    "    return newsalary\n",
    "\n",
    "\n",
    "x=increased_salary(200)\n",
    "print(x)\n",
    "bonus=2*x/100\n",
    "print(\"Bonus is:\",bonus)"
   ]
  },
  {
   "cell_type": "code",
   "execution_count": null,
   "id": "f077cfad",
   "metadata": {},
   "outputs": [],
   "source": [
    "def calculate_area(base,height):\n",
    "    area=base*height\n",
    "    print(\"calculated area is\",area)\n",
    "    return area\n",
    "\n",
    "\n",
    "x=calculate_area(10,20)\n",
    "print(x)\n"
   ]
  },
  {
   "cell_type": "code",
   "execution_count": null,
   "id": "757a618f",
   "metadata": {},
   "outputs": [],
   "source": [
    "def calculatearea():\n",
    "    return True,False\n",
    "    print(\"hello\")\n",
    "    \n",
    "x,y=calculatearea()\n",
    "print(x,y)"
   ]
  },
  {
   "cell_type": "code",
   "execution_count": null,
   "id": "2dd4db12",
   "metadata": {},
   "outputs": [],
   "source": [
    "def calculatearea(base=20,height=100):\n",
    "    area= base* height/2\n",
    "    print(area)\n",
    "    \n",
    "    \n",
    "calculatearea(base=2,height=1)"
   ]
  },
  {
   "cell_type": "code",
   "execution_count": null,
   "id": "abae0354",
   "metadata": {},
   "outputs": [],
   "source": [
    "calculatearea()"
   ]
  },
  {
   "cell_type": "code",
   "execution_count": null,
   "id": "37fd7339",
   "metadata": {},
   "outputs": [],
   "source": [
    "calculatearea(height=5)"
   ]
  },
  {
   "cell_type": "code",
   "execution_count": null,
   "id": "8ddbf7c0",
   "metadata": {},
   "outputs": [],
   "source": [
    "calculatearea(4,5)\n",
    "calculatearea(4)\n",
    "calculatearea(height=10,base=5)"
   ]
  },
  {
   "cell_type": "code",
   "execution_count": 29,
   "id": "4abaeecc",
   "metadata": {},
   "outputs": [
    {
     "data": {
      "text/plain": [
       "dict"
      ]
     },
     "execution_count": 29,
     "metadata": {},
     "output_type": "execute_result"
    }
   ],
   "source": [
    "d={}\n",
    "type(d)"
   ]
  },
  {
   "cell_type": "code",
   "execution_count": 31,
   "id": "a4ee28ad",
   "metadata": {
    "scrolled": true
   },
   "outputs": [
    {
     "data": {
      "text/plain": [
       "{'name': 'anu', 'age': 35, 'address': 'UK'}"
      ]
     },
     "execution_count": 31,
     "metadata": {},
     "output_type": "execute_result"
    }
   ],
   "source": [
    "d[\"name\"]=\"anu\"\n",
    "d[\"age\"]=35\n",
    "d[\"address\"]=\"UK\"\n",
    "#print(d)\n",
    "d"
   ]
  },
  {
   "cell_type": "code",
   "execution_count": 32,
   "id": "31bf97db",
   "metadata": {},
   "outputs": [],
   "source": [
    "#name of dictionary key and function parameter should be same\n"
   ]
  },
  {
   "cell_type": "code",
   "execution_count": 34,
   "id": "00a37ceb",
   "metadata": {},
   "outputs": [],
   "source": [
    "def varlength(mclass,age,name,address):\n",
    "    print(name,age)"
   ]
  },
  {
   "cell_type": "code",
   "execution_count": 35,
   "id": "25c4a9f0",
   "metadata": {},
   "outputs": [
    {
     "name": "stdout",
     "output_type": "stream",
     "text": [
      "anu 35\n",
      "{'name': 'anu', 'age': 35, 'address': 'UK'}\n"
     ]
    }
   ],
   "source": [
    "varlength(\"java\",**d)\n",
    "print(d)"
   ]
  },
  {
   "cell_type": "code",
   "execution_count": 39,
   "id": "a9fd0f7a",
   "metadata": {},
   "outputs": [
    {
     "name": "stdout",
     "output_type": "stream",
     "text": [
      "python\n",
      "234\n",
      "python\n",
      "python\n"
     ]
    }
   ],
   "source": [
    "a=\"python\"\n",
    "\n",
    "\n",
    "def revArgLen(d):\n",
    "    print(a)\n",
    "    print(d)\n",
    "    return a\n",
    "\n",
    "\n",
    "x=revArgLen(234)\n",
    "print(x)\n",
    "print(a)"
   ]
  },
  {
   "cell_type": "code",
   "execution_count": 40,
   "id": "abad8c5f",
   "metadata": {},
   "outputs": [
    {
     "name": "stdout",
     "output_type": "stream",
     "text": [
      "1865088263472\n",
      "global value a_var inside a function\n",
      "glabal value a_var outside the function\n",
      "1865088262384\n"
     ]
    }
   ],
   "source": [
    "a_var=\"glabal value\"\n",
    "\n",
    "def afunc():\n",
    "    a_var=\"global value\"\n",
    "    print(id(a_var))\n",
    "    print(a_var,\"a_var inside a function\")\n",
    "    return a_var\n",
    "\n",
    "x= afunc()\n",
    "print(a_var,\"a_var outside the function\")\n",
    "print(id(a_var))"
   ]
  },
  {
   "cell_type": "code",
   "execution_count": 41,
   "id": "728356c8",
   "metadata": {},
   "outputs": [
    {
     "name": "stdout",
     "output_type": "stream",
     "text": [
      "outside value b_var outside a function\n",
      "1865088265072\n",
      "inside value b_var inside function\n",
      "inside value b_var outside a function\n",
      "1865088264944\n"
     ]
    }
   ],
   "source": [
    "b_var= \"outside value\"\n",
    "\n",
    "def b_func():\n",
    "    global b_var\n",
    "    print(id(b_var))\n",
    "    b_var=\"inside value\"\n",
    "    print(b_var,\"b_var inside function\")\n",
    "    \n",
    "\n",
    "print(b_var, \"b_var outside a function\")\n",
    "b_func()\n",
    "print(b_var,\"b_var outside a function\")\n",
    "print(id(b_var))"
   ]
  },
  {
   "cell_type": "code",
   "execution_count": 42,
   "id": "382583a9",
   "metadata": {},
   "outputs": [
    {
     "name": "stdout",
     "output_type": "stream",
     "text": [
      "3.141592653589793\n",
      "pi value #434\n",
      "outer before: local value\n",
      "in inner(): inner value\n",
      "outr after: local value\n",
      "global: global value\n",
      "#435\n"
     ]
    }
   ],
   "source": [
    "from math import pi\n",
    "\n",
    "a_var=\"global value\"\n",
    "\n",
    "def outer():\n",
    "    a_var=\"local value\"\n",
    "    pi=\"#434\"\n",
    "    print(\"pi value\",pi)\n",
    "    print(\"outer before:\",a_var)\n",
    "    \n",
    "    def inner():\n",
    "        a_var=\"inner value\"\n",
    "        print(\"in inner():\",a_var)\n",
    "        \n",
    "    inner()\n",
    "    print(\"outr after:\",a_var)\n",
    "    \n",
    "    \n",
    "print(pi)\n",
    "outer()\n",
    "print(\"global:\",a_var)\n",
    "pi=\"#435\"\n",
    "print(pi)\n",
    "    "
   ]
  },
  {
   "cell_type": "code",
   "execution_count": 43,
   "id": "4bdb5f3d",
   "metadata": {},
   "outputs": [
    {
     "name": "stdout",
     "output_type": "stream",
     "text": [
      "hello\n",
      "hello\n"
     ]
    }
   ],
   "source": [
    "name= \"hi\"\n",
    "\n",
    "def greet():\n",
    "    global name\n",
    "    name=\"hello\"\n",
    "    print(name)\n",
    "    \n",
    "greet()\n",
    "print(name)\n",
    "    \n",
    "    "
   ]
  },
  {
   "cell_type": "code",
   "execution_count": null,
   "id": "ea3f5290",
   "metadata": {},
   "outputs": [],
   "source": [
    "def greet(string name):\n",
    "    print(f\"name\")\n",
    "    \n",
    "\n",
    "    \n",
    "greet(\"anu\")"
   ]
  },
  {
   "cell_type": "code",
   "execution_count": 59,
   "id": "6a6a0d29",
   "metadata": {},
   "outputs": [
    {
     "name": "stdout",
     "output_type": "stream",
     "text": [
      "hello anu\n"
     ]
    }
   ],
   "source": [
    "def greet(name):\n",
    "    print(\"hello\",name)\n",
    "\n",
    "    \n",
    "greet(\"anu\")"
   ]
  },
  {
   "cell_type": "markdown",
   "id": "f51dbcff",
   "metadata": {},
   "source": [
    "# OOPs concept"
   ]
  },
  {
   "cell_type": "code",
   "execution_count": 84,
   "id": "360eaf0e",
   "metadata": {},
   "outputs": [
    {
     "name": "stdout",
     "output_type": "stream",
     "text": [
      "apple red circle\n",
      "True\n",
      "apple\n",
      "red\n",
      "healthy\n",
      "apple\n",
      "green\n",
      "healthy\n"
     ]
    }
   ],
   "source": [
    "class fruits:\n",
    "    type=\"apple\"\n",
    "    color=\"red\" \n",
    "    shape=\"circle\"\n",
    "    \n",
    "    def feature(self):\n",
    "        print(self.type)\n",
    "        print(self.color)\n",
    "        return print(\"healthy\")\n",
    "        \n",
    "    \n",
    "    \n",
    "    \n",
    "f=fruits()\n",
    "d=fruits()\n",
    "print(f.type, f.color, d.shape)\n",
    "print(f\"{f.type is d.type}\")\n",
    "d.feature()\n",
    "#d.feature(d)\n",
    "f is fruits\n",
    "#d is f\n",
    "\n",
    "#print(f.type,f.color)\n",
    "\n",
    "f.color= \"green\"\n",
    "f.feature()"
   ]
  },
  {
   "cell_type": "code",
   "execution_count": 71,
   "id": "49f39275",
   "metadata": {},
   "outputs": [
    {
     "data": {
      "text/plain": [
       "['__class__',\n",
       " '__delattr__',\n",
       " '__dict__',\n",
       " '__dir__',\n",
       " '__doc__',\n",
       " '__eq__',\n",
       " '__format__',\n",
       " '__ge__',\n",
       " '__getattribute__',\n",
       " '__gt__',\n",
       " '__hash__',\n",
       " '__init__',\n",
       " '__init_subclass__',\n",
       " '__le__',\n",
       " '__lt__',\n",
       " '__module__',\n",
       " '__ne__',\n",
       " '__new__',\n",
       " '__reduce__',\n",
       " '__reduce_ex__',\n",
       " '__repr__',\n",
       " '__setattr__',\n",
       " '__sizeof__',\n",
       " '__str__',\n",
       " '__subclasshook__',\n",
       " '__weakref__',\n",
       " 'color',\n",
       " 'feature',\n",
       " 'shape',\n",
       " 'type']"
      ]
     },
     "execution_count": 71,
     "metadata": {},
     "output_type": "execute_result"
    }
   ],
   "source": [
    "dir(fruits)"
   ]
  },
  {
   "cell_type": "code",
   "execution_count": 83,
   "id": "e0e2ba77",
   "metadata": {},
   "outputs": [
    {
     "name": "stdout",
     "output_type": "stream",
     "text": [
      "healthy\n"
     ]
    }
   ],
   "source": [
    "l= list()\n",
    "t= tuple()\n",
    "d= dir()\n",
    "f= fruits()\n",
    "f.feature()\n"
   ]
  },
  {
   "cell_type": "code",
   "execution_count": 103,
   "id": "6531772c",
   "metadata": {},
   "outputs": [],
   "source": [
    "class Employee:\n",
    "    def __init__(self,x,y,z):\n",
    "        self.name=x\n",
    "        self.salary=y\n",
    "        self.age=z\n",
    "        \n",
    "        \n",
    "    def display_details(self):\n",
    "        print(\"Name:\",self.name,\", Salary:\",self.salary,\",age:\",self.age)\n",
    "        \n",
    "        "
   ]
  },
  {
   "cell_type": "code",
   "execution_count": 104,
   "id": "9e690dca",
   "metadata": {},
   "outputs": [
    {
     "name": "stdout",
     "output_type": "stream",
     "text": [
      "Name: anu , Salary: 20000 ,age: 25\n",
      "Name: sanji , Salary: 50000 ,age: 30\n"
     ]
    }
   ],
   "source": [
    "emp1 = Employee(\"anu\", 20000, 25)\n",
    "emp2= Employee(\"sanji\",50000,30)\n",
    "emp1.display_details()\n",
    "emp2.display_details()"
   ]
  },
  {
   "cell_type": "code",
   "execution_count": 105,
   "id": "ff99b8c1",
   "metadata": {},
   "outputs": [],
   "source": [
    "class Fruits:\n",
    "    def __init__(self,x,y,z):\n",
    "        self.type=x\n",
    "        self.color=y\n",
    "        self.shape=z\n",
    "        \n",
    "        \n",
    "    def display_details(self):\n",
    "        print(\"type:\",self.type,\", color:\",self.color,\",shape:\",self.shape)\n",
    "        "
   ]
  },
  {
   "cell_type": "code",
   "execution_count": 106,
   "id": "88db7773",
   "metadata": {},
   "outputs": [
    {
     "name": "stdout",
     "output_type": "stream",
     "text": [
      "type: apple , color: red ,shape: round\n",
      "type: orange , color: orange ,shape: circle\n"
     ]
    }
   ],
   "source": [
    "f1 = Fruits(\"apple\", \"red\", \"round\")\n",
    "f2= Fruits(\"orange\",\"orange\",\"circle\")\n",
    "f1.display_details()\n",
    "f2.display_details()"
   ]
  },
  {
   "cell_type": "code",
   "execution_count": 107,
   "id": "42f0e1af",
   "metadata": {},
   "outputs": [
    {
     "data": {
      "text/plain": [
       "5"
      ]
     },
     "execution_count": 107,
     "metadata": {},
     "output_type": "execute_result"
    }
   ],
   "source": [
    "class Example:\n",
    "    staticVariable=5\n",
    "    \n",
    "\n",
    "Example.staticVariable"
   ]
  },
  {
   "cell_type": "code",
   "execution_count": 109,
   "id": "967913a2",
   "metadata": {},
   "outputs": [
    {
     "data": {
      "text/plain": [
       "5"
      ]
     },
     "execution_count": 109,
     "metadata": {},
     "output_type": "execute_result"
    }
   ],
   "source": [
    "instance=Example()\n",
    "instance.staticVariable"
   ]
  },
  {
   "cell_type": "code",
   "execution_count": 115,
   "id": "78ce6a60",
   "metadata": {},
   "outputs": [
    {
     "name": "stdout",
     "output_type": "stream",
     "text": [
      "name:anu,salary:10000,age:20\n"
     ]
    }
   ],
   "source": [
    "class Employee:\n",
    "    def __init__(self,x,y,z):\n",
    "        self.name=x\n",
    "        self.salary=y\n",
    "        self.age=z    \n",
    "    \n",
    "    def __str__(self):\n",
    "        #return \"this will be printed\"\n",
    "        return f\"name:{self.name},salary:{self.salary},age:{self.age}\"\n",
    "    \n",
    "emp1=Employee(\"anu\",10000,20)\n",
    "print(emp1)"
   ]
  },
  {
   "cell_type": "code",
   "execution_count": 130,
   "id": "e6a18792",
   "metadata": {},
   "outputs": [
    {
     "name": "stdout",
     "output_type": "stream",
     "text": [
      "New Employee anu has been created\n",
      "Employee name is anu\n"
     ]
    }
   ],
   "source": [
    "class Employee:\n",
    "    def __init__(self,x):\n",
    "        self.name=x\n",
    "        print(\"New Employee \" + x + \" has been created\")\n",
    "        \n",
    "    def __del__(self):\n",
    "        print(\"Employee \"+ self.name + \" has been destryoed\")\n",
    "        \n",
    "    \n",
    "    def __str__(self):\n",
    "        #return \"this will be printed\"\n",
    "        return f\"Employee name is {self.name}\"\n",
    "    \n",
    "emp1=Employee(\"anu\")\n",
    "print(emp1)\n"
   ]
  },
  {
   "cell_type": "code",
   "execution_count": 129,
   "id": "0d58dbb9",
   "metadata": {},
   "outputs": [
    {
     "name": "stdout",
     "output_type": "stream",
     "text": [
      "Employee anu has been destryoed\n"
     ]
    }
   ],
   "source": [
    "del emp1"
   ]
  },
  {
   "cell_type": "code",
   "execution_count": 131,
   "id": "9ea6f03c",
   "metadata": {},
   "outputs": [
    {
     "name": "stdout",
     "output_type": "stream",
     "text": [
      "Employee name is anu\n"
     ]
    }
   ],
   "source": [
    "print(emp1)"
   ]
  },
  {
   "cell_type": "code",
   "execution_count": 144,
   "id": "db0140d7",
   "metadata": {},
   "outputs": [],
   "source": [
    "class Teacher:\n",
    "    def __init__(self,x):\n",
    "        self.teacher_name=x\n",
    "        print(\"Teacher class constructor\")\n",
    "        \n",
    "    def set_info(self,name,):\n",
    "        self.teacher_name=\"Goyal\"\n",
    "        \n",
    "    def get_info(self):\n",
    "        print(\"teacher name is :\", self.teacher_name)\n",
    "        \n",
    "\n",
    "class Student(Teacher):\n",
    "    def __init__(self):\n",
    "        Teacher.__init__(self,x)\n",
    "        print(\"calling student constructor\")\n",
    "        \n",
    "    \n",
    "    def student_info():\n",
    "        print(\"student details\")\n",
    "        \n",
    "        "
   ]
  },
  {
   "cell_type": "code",
   "execution_count": 145,
   "id": "79a6c989",
   "metadata": {},
   "outputs": [
    {
     "name": "stdout",
     "output_type": "stream",
     "text": [
      "Teacher class constructor\n",
      "Teacher class constructor\n",
      "calling student constructor\n",
      "teacher name is : global value\n"
     ]
    },
    {
     "data": {
      "text/plain": [
       "['__class__',\n",
       " '__delattr__',\n",
       " '__dict__',\n",
       " '__dir__',\n",
       " '__doc__',\n",
       " '__eq__',\n",
       " '__format__',\n",
       " '__ge__',\n",
       " '__getattribute__',\n",
       " '__gt__',\n",
       " '__hash__',\n",
       " '__init__',\n",
       " '__init_subclass__',\n",
       " '__le__',\n",
       " '__lt__',\n",
       " '__module__',\n",
       " '__ne__',\n",
       " '__new__',\n",
       " '__reduce__',\n",
       " '__reduce_ex__',\n",
       " '__repr__',\n",
       " '__setattr__',\n",
       " '__sizeof__',\n",
       " '__str__',\n",
       " '__subclasshook__',\n",
       " '__weakref__',\n",
       " 'get_info',\n",
       " 'set_info',\n",
       " 'student_info',\n",
       " 'teacher_name']"
      ]
     },
     "execution_count": 145,
     "metadata": {},
     "output_type": "execute_result"
    }
   ],
   "source": [
    "t=Teacher(\"sanu\")\n",
    "s=Student()\n",
    "s.get_info()\n",
    "dir(s)"
   ]
  },
  {
   "cell_type": "code",
   "execution_count": 149,
   "id": "4413f74e",
   "metadata": {},
   "outputs": [
    {
     "name": "stdout",
     "output_type": "stream",
     "text": [
      "the age of user is31\n",
      "sanu goyal and was born 1992.\n"
     ]
    }
   ],
   "source": [
    "class Person:\n",
    "    def __init__(self, name, surname, dob):\n",
    "        self.__name=name\n",
    "        self.__surname=surname\n",
    "        self.__dob=dob\n",
    "        \n",
    "    def age(self,current_year):\n",
    "        return current_year - self.__dob\n",
    "    \n",
    "    def __str__(self):\n",
    "        return \"%s %s and was born %d.\" % (\n",
    "            self.__name,\n",
    "            self.__surname,\n",
    "            self.__dob,\n",
    "        )\n",
    "   \n",
    "\n",
    "usr1=Person(\"anu\",\"goyal\",1990)\n",
    "print(f\"the age of user is{usr1.age(2021)}\")\n",
    "usr2=Person(\"sanu\",\"goyal\",1992)\n",
    "print(usr2)"
   ]
  },
  {
   "cell_type": "code",
   "execution_count": 150,
   "id": "7761d8ef",
   "metadata": {},
   "outputs": [
    {
     "ename": "AttributeError",
     "evalue": "'Person' object has no attribute '__name'",
     "output_type": "error",
     "traceback": [
      "\u001b[1;31m---------------------------------------------------------------------------\u001b[0m",
      "\u001b[1;31mAttributeError\u001b[0m                            Traceback (most recent call last)",
      "Input \u001b[1;32mIn [150]\u001b[0m, in \u001b[0;36m<cell line: 1>\u001b[1;34m()\u001b[0m\n\u001b[1;32m----> 1\u001b[0m \u001b[43musr1\u001b[49m\u001b[38;5;241;43m.\u001b[39;49m\u001b[43m__name\u001b[49m\n\u001b[0;32m      2\u001b[0m usr1\u001b[38;5;241m.\u001b[39m__surname\n",
      "\u001b[1;31mAttributeError\u001b[0m: 'Person' object has no attribute '__name'"
     ]
    }
   ],
   "source": [
    "usr1.__name\n",
    "usr1.__surname"
   ]
  },
  {
   "cell_type": "code",
   "execution_count": null,
   "id": "9ae115c3",
   "metadata": {},
   "outputs": [],
   "source": []
  }
 ],
 "metadata": {
  "kernelspec": {
   "display_name": "Python 3 (ipykernel)",
   "language": "python",
   "name": "python3"
  },
  "language_info": {
   "codemirror_mode": {
    "name": "ipython",
    "version": 3
   },
   "file_extension": ".py",
   "mimetype": "text/x-python",
   "name": "python",
   "nbconvert_exporter": "python",
   "pygments_lexer": "ipython3",
   "version": "3.9.12"
  }
 },
 "nbformat": 4,
 "nbformat_minor": 5
}
