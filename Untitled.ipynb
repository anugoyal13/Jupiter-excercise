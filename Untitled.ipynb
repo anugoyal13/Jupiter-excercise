{
 "cells": [
  {
   "cell_type": "code",
   "execution_count": 1,
   "id": "aa022ae6",
   "metadata": {},
   "outputs": [
    {
     "name": "stdout",
     "output_type": "stream",
     "text": [
      "hi\n",
      "hello\n"
     ]
    }
   ],
   "source": [
    "def add():\n",
    "    print(\"hi\")\n",
    "    print(\"hello\")\n",
    "    \n",
    "\n",
    "add()\n"
   ]
  },
  {
   "cell_type": "code",
   "execution_count": 3,
   "id": "4dd2e090",
   "metadata": {},
   "outputs": [
    {
     "data": {
      "text/plain": [
       "'HELLO WORLD'"
      ]
     },
     "execution_count": 3,
     "metadata": {},
     "output_type": "execute_result"
    }
   ],
   "source": [
    "def capital_letters(x):\n",
    "    x=name.upper()\n",
    "    return x\n",
    "    \n",
    "    \n",
    "name=\"hello world\"\n",
    "capital_letters(name)"
   ]
  },
  {
   "cell_type": "code",
   "execution_count": null,
   "id": "d98a69b5",
   "metadata": {},
   "outputs": [],
   "source": [
    "def pop_func():\n",
    "    l=[3,4,5,6]\n",
    "    x=l.pop\n",
    "    print(l)\n",
    "    print(x)\n",
    "    \n",
    "    \n",
    "pop_func()"
   ]
  }
 ],
 "metadata": {
  "kernelspec": {
   "display_name": "Python 3 (ipykernel)",
   "language": "python",
   "name": "python3"
  },
  "language_info": {
   "codemirror_mode": {
    "name": "ipython",
    "version": 3
   },
   "file_extension": ".py",
   "mimetype": "text/x-python",
   "name": "python",
   "nbconvert_exporter": "python",
   "pygments_lexer": "ipython3",
   "version": "3.9.12"
  }
 },
 "nbformat": 4,
 "nbformat_minor": 5
}
